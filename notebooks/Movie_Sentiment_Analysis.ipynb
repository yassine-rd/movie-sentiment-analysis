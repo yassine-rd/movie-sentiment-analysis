{
 "cells": [
  {
   "attachments": {},
   "cell_type": "markdown",
   "metadata": {},
   "source": [
    "# Movie Sentiment Analysis : A Multinomial Naïve Bayes-Based Approach for Assessing User and Critic Opinions"
   ]
  },
  {
   "attachments": {},
   "cell_type": "markdown",
   "metadata": {},
   "source": [
    "## *Abstract*\n",
    "\n",
    "*The growing volume of user-generated content, particularly in the form of movie reviews, presents both challenges and opportunities for researchers and practitioners in the movie industry. Sentiment analysis (SA) has emerged as a vital tool to automatically process and interpret this vast data repository, offering valuable insights into viewer preferences and opinions. This paper presents a comprehensive review of the techniques and applications of movie sentiment analysis, highlighting the role of natural language processing and machine learning algorithms in extracting sentiment from text data. In this project, I involve a comprehensive study of relevant NLP techniques, including data pre-processing, feature extraction, and model selection. The chosen Multinomial Na¨ıve Bayes algorithm will be trained on a data set of user critic reviews, with model performance evaluated based on multiple evaluation metrics. Results demonstrate a high classification accuracy of 86.3%, which indicates the effectiveness of the proposed solution. This confirms the potential of incorporating the designed approach into modern text-based sentiment analysis tools.*"
   ]
  },
  {
   "attachments": {},
   "cell_type": "markdown",
   "metadata": {},
   "source": [
    "## Import Libaries"
   ]
  },
  {
   "cell_type": "code",
   "execution_count": 1,
   "metadata": {},
   "outputs": [
    {
     "name": "stderr",
     "output_type": "stream",
     "text": [
      "[nltk_data] Downloading package brown to /Users/kheey/nltk_data...\n",
      "[nltk_data]   Package brown is already up-to-date!\n",
      "[nltk_data] Downloading package names to /Users/kheey/nltk_data...\n",
      "[nltk_data]   Package names is already up-to-date!\n",
      "[nltk_data] Downloading package wordnet to /Users/kheey/nltk_data...\n",
      "[nltk_data]   Package wordnet is already up-to-date!\n",
      "[nltk_data] Downloading package stopwords to /Users/kheey/nltk_data...\n",
      "[nltk_data]   Package stopwords is already up-to-date!\n",
      "[nltk_data] Downloading package punkt to /Users/kheey/nltk_data...\n",
      "[nltk_data]   Package punkt is already up-to-date!\n",
      "[nltk_data] Downloading package averaged_perceptron_tagger to\n",
      "[nltk_data]     /Users/kheey/nltk_data...\n",
      "[nltk_data]   Package averaged_perceptron_tagger is already up-to-\n",
      "[nltk_data]       date!\n",
      "[nltk_data] Downloading package universal_tagset to\n",
      "[nltk_data]     /Users/kheey/nltk_data...\n",
      "[nltk_data]   Package universal_tagset is already up-to-date!\n"
     ]
    }
   ],
   "source": [
    "import numpy as np # library for linear algebra and math utils\n",
    "import pandas as pd # dataframe library\n",
    "import matplotlib.pyplot as plt # plotting library\n",
    "import seaborn as sns # data visualization\n",
    "\n",
    "\n",
    "# sklearn modules\n",
    "from sklearn.model_selection import train_test_split\n",
    "from sklearn.pipeline import Pipeline\n",
    "from sklearn.naive_bayes import MultinomialNB # classifier \n",
    "from sklearn.metrics import (\n",
    "    accuracy_score,\n",
    "    confusion_matrix,\n",
    "    classification_report,\n",
    "    ConfusionMatrixDisplay,\n",
    ")\n",
    "from sklearn.feature_extraction.text import TfidfVectorizer\n",
    "\n",
    "# text preprocessing modules\n",
    "import nltk\n",
    "from string import punctuation \n",
    "from nltk.tokenize import word_tokenize\n",
    "from nltk.corpus import stopwords\n",
    "from nltk.stem import WordNetLemmatizer, PorterStemmer\n",
    "import re\n",
    "\n",
    "# dependencies\n",
    "for dependency in (\n",
    "    \"brown\",\n",
    "    \"names\",\n",
    "    \"wordnet\",\n",
    "    \"stopwords\",\n",
    "    \"punkt\",\n",
    "    \"averaged_perceptron_tagger\",\n",
    "    \"universal_tagset\",\n",
    "):\n",
    "    nltk.download(dependency)\n",
    "    \n",
    "import warnings\n",
    "warnings.filterwarnings(\"ignore\")\n",
    "\n",
    "# seeding\n",
    "np.random.seed(123)"
   ]
  },
  {
   "attachments": {},
   "cell_type": "markdown",
   "metadata": {},
   "source": [
    "## Loading the Data"
   ]
  },
  {
   "attachments": {},
   "cell_type": "markdown",
   "metadata": {},
   "source": [
    "For this project, I will be using a data set containing 50k movie reviews from IMDb. The data have already been splitted into 25k reviews for training purposes while the other 25k is intended for testing the classifier. In addition, both sets contain 12.5k positive and negative reviews."
   ]
  },
  {
   "cell_type": "code",
   "execution_count": 3,
   "metadata": {},
   "outputs": [],
   "source": [
    "# load data\n",
    "data = pd.read_csv(\"../data/labeledTrainData.tsv\", sep='\\t')"
   ]
  },
  {
   "attachments": {},
   "cell_type": "markdown",
   "metadata": {},
   "source": [
    "Show sample of the dataset."
   ]
  },
  {
   "cell_type": "code",
   "execution_count": 4,
   "metadata": {},
   "outputs": [
    {
     "data": {
      "text/html": [
       "<div>\n",
       "<style scoped>\n",
       "    .dataframe tbody tr th:only-of-type {\n",
       "        vertical-align: middle;\n",
       "    }\n",
       "\n",
       "    .dataframe tbody tr th {\n",
       "        vertical-align: top;\n",
       "    }\n",
       "\n",
       "    .dataframe thead th {\n",
       "        text-align: right;\n",
       "    }\n",
       "</style>\n",
       "<table border=\"1\" class=\"dataframe\">\n",
       "  <thead>\n",
       "    <tr style=\"text-align: right;\">\n",
       "      <th></th>\n",
       "      <th>id</th>\n",
       "      <th>sentiment</th>\n",
       "      <th>review</th>\n",
       "    </tr>\n",
       "  </thead>\n",
       "  <tbody>\n",
       "    <tr>\n",
       "      <th>0</th>\n",
       "      <td>5814_8</td>\n",
       "      <td>1</td>\n",
       "      <td>With all this stuff going down at the moment w...</td>\n",
       "    </tr>\n",
       "    <tr>\n",
       "      <th>1</th>\n",
       "      <td>2381_9</td>\n",
       "      <td>1</td>\n",
       "      <td>\\The Classic War of the Worlds\\\" by Timothy Hi...</td>\n",
       "    </tr>\n",
       "    <tr>\n",
       "      <th>2</th>\n",
       "      <td>7759_3</td>\n",
       "      <td>0</td>\n",
       "      <td>The film starts with a manager (Nicholas Bell)...</td>\n",
       "    </tr>\n",
       "    <tr>\n",
       "      <th>3</th>\n",
       "      <td>3630_4</td>\n",
       "      <td>0</td>\n",
       "      <td>It must be assumed that those who praised this...</td>\n",
       "    </tr>\n",
       "    <tr>\n",
       "      <th>4</th>\n",
       "      <td>9495_8</td>\n",
       "      <td>1</td>\n",
       "      <td>Superbly trashy and wondrously unpretentious 8...</td>\n",
       "    </tr>\n",
       "  </tbody>\n",
       "</table>\n",
       "</div>"
      ],
      "text/plain": [
       "       id  sentiment                                             review\n",
       "0  5814_8          1  With all this stuff going down at the moment w...\n",
       "1  2381_9          1  \\The Classic War of the Worlds\\\" by Timothy Hi...\n",
       "2  7759_3          0  The film starts with a manager (Nicholas Bell)...\n",
       "3  3630_4          0  It must be assumed that those who praised this...\n",
       "4  9495_8          1  Superbly trashy and wondrously unpretentious 8..."
      ]
     },
     "execution_count": 4,
     "metadata": {},
     "output_type": "execute_result"
    }
   ],
   "source": [
    "# show the first five rows of our labeled dataset\n",
    "data.head()"
   ]
  },
  {
   "attachments": {},
   "cell_type": "markdown",
   "metadata": {},
   "source": [
    "Our dataset has 3 columns.\n",
    "\n",
    "- Id — This is the id of the review\n",
    "- Sentiment — either positive(1) or negative(0)\n",
    "- Review — comment about the movie\n"
   ]
  },
  {
   "attachments": {},
   "cell_type": "markdown",
   "metadata": {},
   "source": [
    "Check the shape of the dataset."
   ]
  },
  {
   "cell_type": "code",
   "execution_count": 5,
   "metadata": {},
   "outputs": [
    {
     "data": {
      "text/plain": [
       "(25000, 3)"
      ]
     },
     "execution_count": 5,
     "metadata": {},
     "output_type": "execute_result"
    }
   ],
   "source": [
    "# check the shape of the data\n",
    "data.shape"
   ]
  },
  {
   "attachments": {},
   "cell_type": "markdown",
   "metadata": {},
   "source": [
    "The dataset has 25,000 reviews.\n",
    "\n",
    "We need to check if the dataset has any missing values."
   ]
  },
  {
   "cell_type": "code",
   "execution_count": 6,
   "metadata": {},
   "outputs": [
    {
     "data": {
      "text/plain": [
       "id           0\n",
       "sentiment    0\n",
       "review       0\n",
       "dtype: int64"
      ]
     },
     "execution_count": 6,
     "metadata": {},
     "output_type": "execute_result"
    }
   ],
   "source": [
    "# check missing values in data\n",
    "data.isnull().sum()"
   ]
  },
  {
   "attachments": {},
   "cell_type": "markdown",
   "metadata": {},
   "source": [
    "The output shows that our dataset does not have any missing values."
   ]
  },
  {
   "attachments": {},
   "cell_type": "markdown",
   "metadata": {},
   "source": [
    "> How to Evaluate Class Distribution ?"
   ]
  },
  {
   "attachments": {},
   "cell_type": "markdown",
   "metadata": {},
   "source": [
    "We can use the value_counts() method from the pandas package to evaluate the class distribution from our dataset."
   ]
  },
  {
   "cell_type": "code",
   "execution_count": 6,
   "metadata": {},
   "outputs": [
    {
     "data": {
      "text/plain": [
       "1    12500\n",
       "0    12500\n",
       "Name: sentiment, dtype: int64"
      ]
     },
     "execution_count": 6,
     "metadata": {},
     "output_type": "execute_result"
    }
   ],
   "source": [
    "# evaluate news sentiment distribution\n",
    "data.sentiment.value_counts()"
   ]
  },
  {
   "cell_type": "code",
   "execution_count": 7,
   "metadata": {},
   "outputs": [],
   "source": [
    "def plot_sentiment_distribution(data, column_name=\"sentiment\") -> None:\n",
    "    \"\"\"\n",
    "    Plots a bar chart representing the sentiment distribution of movie reviews.\n",
    "\n",
    "    Parameters:\n",
    "    data (pd.DataFrame): A DataFrame containing the movie reviews data.\n",
    "    column_name (str, optional): The name of the column containing sentiment\n",
    "                                 values. Defaults to 'sentiment'.\n",
    "\n",
    "    Returns:\n",
    "    None\n",
    "    \"\"\"\n",
    "    \n",
    "    # set the style for the seaborn plot\n",
    "    custom_params = {\"axes.spines.right\": False, \"axes.spines.top\": False}\n",
    "    sns.set_theme(style=\"ticks\", rc=custom_params)\n",
    "\n",
    "    # calculate sentiment counts\n",
    "    sentiment_counts = data[column_name].value_counts()\n",
    "    colour_palette = ['red', 'green']\n",
    "\n",
    "    # create a bar plot for sentiment distribution\n",
    "    plt.figure(figsize=(8, 6))\n",
    "    ax = sns.barplot(x=sentiment_counts.index, y=sentiment_counts.values, width=0.5, palette=colour_palette, alpha=0.65)\n",
    "\n",
    "    # customize gridlines\n",
    "    ax.grid(color='gray', linestyle='-', linewidth=0.5, alpha=0.1)\n",
    "\n",
    "    # set labels and title\n",
    "    ax.set_title('Sentiment Distribution', fontsize=16)\n",
    "    ax.set_xticklabels(['Negative (0)', 'Positive (1)'], fontsize=12)\n",
    "\n",
    "    # display values on top of bars\n",
    "    for p in ax.patches:\n",
    "        ax.annotate(f'{int(p.get_height())}', (p.get_x() + p.get_width() / 2, p.get_height()),\n",
    "                    ha='center', va='baseline', fontsize=12, color='black', xytext=(0, 5),\n",
    "                    textcoords='offset points')\n",
    "\n",
    "    plt.show()\n",
    "    \n",
    "    # reset the default style for seaborn\n",
    "    sns.reset_defaults()\n"
   ]
  },
  {
   "cell_type": "code",
   "execution_count": 8,
   "metadata": {},
   "outputs": [
    {
     "data": {
      "image/png": "[encoded data removed]",
      "text/plain": [
       "<Figure size 800x600 with 1 Axes>"
      ]
     },
     "metadata": {},
     "output_type": "display_data"
    }
   ],
   "source": [
    "# Plot the sentiment distribution\n",
    "plot_sentiment_distribution(data)"
   ]
  },
  {
   "attachments": {},
   "cell_type": "markdown",
   "metadata": {},
   "source": [
    "In this dataset, we have an equal number of positive and negative reviews."
   ]
  },
  {
   "attachments": {},
   "cell_type": "markdown",
   "metadata": {},
   "source": [
    "It’s also interesting to see the distribution of the length of movie reviews (word count) split according to sentiment."
   ]
  },
  {
   "cell_type": "code",
   "execution_count": 9,
   "metadata": {},
   "outputs": [],
   "source": [
    "def plot_review_length_distribution(data, column_name=\"review\", sentiment_column=\"sentiment\") -> None:\n",
    "    \"\"\"\n",
    "    Plots a histogram representing the distribution of the length of movie reviews\n",
    "    split according to sentiment.\n",
    "\n",
    "    Parameters:\n",
    "    data (pd.DataFrame): A DataFrame containing the movie reviews data.\n",
    "    column_name (str, optional): The name of the column containing the review text.\n",
    "                                 Defaults to 'review'.\n",
    "    sentiment_column (str, optional): The name of the column containing the sentiment\n",
    "                                       values. Defaults to 'sentiment'.\n",
    "\n",
    "    Returns:\n",
    "    None\n",
    "    \"\"\"\n",
    "    \n",
    "    # Filter data by sentiment\n",
    "    pos_reviews = data[data[sentiment_column] == 1][column_name]\n",
    "    neg_reviews = data[data[sentiment_column] == 0][column_name]\n",
    "\n",
    "    # Calculate review lengths\n",
    "    pos_lengths = pos_reviews.apply(lambda x: len(x.split()))\n",
    "    neg_lengths = neg_reviews.apply(lambda x: len(x.split()))\n",
    "\n",
    "    # Calculate average and standard deviation of review lengths\n",
    "    avg_length = np.mean(data[column_name].apply(lambda x: len(x.split())))\n",
    "    std_length = np.std(data[column_name].apply(lambda x: len(x.split())))\n",
    "\n",
    "    # Plot the histogram\n",
    "    plt.figure(figsize=(10, 6))\n",
    "    sns.histplot(neg_lengths, color='red', alpha=0.5, label='Negative')\n",
    "    sns.histplot(pos_lengths, color='green', alpha=0.5, label='Positive')\n",
    "    plt.legend()\n",
    "    plt.xlabel('Review Length (Word Count)', fontsize=14)\n",
    "    plt.ylabel('Frequency', fontsize=14)\n",
    "    plt.title('Distribution of Review Length by Sentiment', fontsize=16)\n",
    "\n",
    "    # Add lines for mean and standard deviation\n",
    "    plt.axvline(x=avg_length, color='black', linestyle='--', label='Mean')\n",
    "    plt.axvline(x=avg_length + std_length, color='gray', linestyle='--', label='Standard Deviation')\n",
    "    plt.axvline(x=avg_length - std_length, color='gray', linestyle='--')\n",
    "\n",
    "    plt.legend()\n",
    "    plt.show()"
   ]
  },
  {
   "cell_type": "code",
   "execution_count": 10,
   "metadata": {},
   "outputs": [
    {
     "data": {
      "image/png": "[encoded data removed]",
      "text/plain": [
       "<Figure size 1000x600 with 1 Axes>"
      ]
     },
     "metadata": {},
     "output_type": "display_data"
    }
   ],
   "source": [
    "plot_review_length_distribution(data)"
   ]
  },
  {
   "attachments": {},
   "cell_type": "markdown",
   "metadata": {},
   "source": [
    "The reviews are classified into positive and negative in reference to the IMDb rating system. It allows viewers to rate on a scale from 1 to 10, and according to the data set creator anything less than 4 stars is labeled negative, and above 7 stars is marked as positive. Reviews with ratings out of the above ranges are not included. There are at most 30 reviews for each movie. The average number of words per review is 233.79 with a standard deviation of 173.73 words as shown in the Figure above."
   ]
  },
  {
   "attachments": {},
   "cell_type": "markdown",
   "metadata": {},
   "source": [
    "The spread is similar in shape for both types of reviews however negative reviews are on average a tad shorter."
   ]
  },
  {
   "attachments": {},
   "cell_type": "markdown",
   "metadata": {},
   "source": [
    "## Preprocessing the Data"
   ]
  },
  {
   "attachments": {},
   "cell_type": "markdown",
   "metadata": {},
   "source": [
    "For any machine learning project, once you’ve gathered the data, the first step is to process it to make useful inputs to your model. Data preprocessing is a crucial task in the data mining process. It refers to cleaning up the data from useless information that will not help in the training process and might cause confusion during the classification process. For the IMDb data set, several data preprocessing steps are utilized."
   ]
  },
  {
   "attachments": {},
   "cell_type": "markdown",
   "metadata": {},
   "source": [
    "***Text Tokenization:*** Tokenization is the process of dissecting a text segment into smaller units, referred to as tokens. These tokens can consist of words, word fragments, or punctuation marks, allowing for more effective natural language processing and analysis."
   ]
  },
  {
   "attachments": {},
   "cell_type": "markdown",
   "metadata": {},
   "source": [
    "***Word Filtering:*** To remove noise from the data, we will first eliminate words that don’t provide much information about the content, such as common words like ’I, you, are, is, etc.’ that don’t offer sufficient insight into sentiment. Then, we will remove hyperlinks, hashtags, and punctuation to ensure words with or without punctuation are treated as the same word. For example, ”happy”, ”happy?”, ”happy!”, ”happy,” and ”happy.” should all be considered as the same word."
   ]
  },
  {
   "attachments": {},
   "cell_type": "markdown",
   "metadata": {},
   "source": [
    "***Stemming:*** Stemming entails eliminating prefixes and suffixes from a word to obtain its base or root form. The Porter stemming algorithm, a rule-based method developed by Martin Porter, is commonly employed for this purpose. In this algorithm, a consonant is defined as any letter excluding vowels. The calculation of conditions in the algorithm is demonstrated in Form 1, where optional content is represented by square brackets, and (V C) m indicates a sequence of a Vowel (V ) followed by a Consonant (C) repeated m times.\n",
    "\n",
    "<div style=\"text-align:center\">\n",
    "\n",
    "$$\\left[ C \\right] (VC)^m \\left[ V \\right]$$\n",
    "\n",
    "</div>\n",
    "\n",
    "This algorithm adheres to a set of rules that consist of patterns along with their associated conditions.\n",
    "\n",
    "<div style=\"text-align:center\">\n",
    "\n",
    "$$S1 \\longrightarrow S2$$\n",
    "\n",
    "</div>\n",
    "\n",
    "If a pattern is found to match and the word concludes with the S1 suffix, the suffix is converted from S1 to S2, and the algorithm starts anew from the list’s beginning to identify the subsequent matching pattern. Should no pattern match, the algorithm then outputs the result."
   ]
  },
  {
   "cell_type": "code",
   "execution_count": 11,
   "metadata": {},
   "outputs": [],
   "source": [
    "stop_words = stopwords.words(\"english\")\n",
    "\n",
    "\n",
    "def process_review(text, remove_stop_words=True, lemmatize_words=True, stemming_words=True) -> str:\n",
    "    \"\"\"\n",
    "    Clean and preprocess text data by removing unwanted characters, stop words, and lemmatizing words.\n",
    "\n",
    "    This function takes a raw text input and processes it by removing non-alphanumeric characters,\n",
    "    punctuation, numbers, and optionally, stop words, lemmatizing and stemming. The output is a cleaned\n",
    "    and preprocessed version of the input text.\n",
    "\n",
    "    Parameters:\n",
    "    text (str): The raw text input to be processed.\n",
    "    remove_stop_words (bool, optional): If True, removes stop words from the input text. Defaults to True.\n",
    "    lemmatize_words (bool, optional): If True, lemmatizes words in the input text. Defaults to True.\n",
    "    stemming_words (bool, optional): If True, lemmatizes words in the input text. Defaults to True.\n",
    "\n",
    "    Returns:\n",
    "    str: The cleaned and preprocessed version of the input text.\n",
    "    \"\"\"\n",
    "\n",
    "    # Remove non-alphanumeric characters, punctuation, and numbers\n",
    "    text = re.sub(r'\\W+', ' ', text.lower())\n",
    "\n",
    "    # Remove hyperlinks\n",
    "    text = re.sub(r'http\\S+|www\\S+', '', text)\n",
    "\n",
    "    # Tokenize the text\n",
    "    tokens = word_tokenize(text)\n",
    "\n",
    "    # Remove stop words\n",
    "    if remove_stop_words:\n",
    "        tokens = [token for token in tokens if token not in stop_words]\n",
    "\n",
    "    # Lemmatize words\n",
    "    if lemmatize_words:\n",
    "        lemmatizer = WordNetLemmatizer()\n",
    "        tokens = [lemmatizer.lemmatize(token) for token in tokens]\n",
    "\n",
    "    # Stem words\n",
    "    if stemming_words:\n",
    "        stemmer = PorterStemmer()\n",
    "        tokens = [stemmer.stem(token) for token in tokens]\n",
    "\n",
    "    return ' '.join(tokens)\n"
   ]
  },
  {
   "attachments": {},
   "cell_type": "markdown",
   "metadata": {},
   "source": [
    "Let's test our function on a sample review."
   ]
  },
  {
   "cell_type": "code",
   "execution_count": 12,
   "metadata": {},
   "outputs": [
    {
     "name": "stdout",
     "output_type": "stream",
     "text": [
      "thor thank taika laugh first time week great fun full heart go watch fun good film chapagain com\n"
     ]
    }
   ],
   "source": [
    "custom_review = \"@Thor Thank you, Taika! We Laughed for the first time in a week!:) Great, fun, full hearted, just go watch it and have fun!!! #good #film https://chapagain.com\"\n",
    "\n",
    "# print cleaned tweet\n",
    "print(process_review(custom_review))"
   ]
  },
  {
   "attachments": {},
   "cell_type": "markdown",
   "metadata": {},
   "source": [
    "Now we can clean our dataset by using the process_review() function."
   ]
  },
  {
   "cell_type": "code",
   "execution_count": 13,
   "metadata": {},
   "outputs": [],
   "source": [
    "#clean the review\n",
    "data[\"cleaned_review\"] = data[\"review\"].apply(process_review)"
   ]
  },
  {
   "attachments": {},
   "cell_type": "markdown",
   "metadata": {},
   "source": [
    "Then we split data into feature and target variables."
   ]
  },
  {
   "cell_type": "code",
   "execution_count": 14,
   "metadata": {},
   "outputs": [],
   "source": [
    "#split features and target from  data \n",
    "X = data[\"cleaned_review\"]\n",
    "y = data.sentiment.values"
   ]
  },
  {
   "attachments": {},
   "cell_type": "markdown",
   "metadata": {},
   "source": [
    "Our feature for training is the cleaned_review variable and the target is the sentiment variable.\n",
    "\n",
    "We then split our dataset into train and test data. The test size is 15% of the entire dataset."
   ]
  },
  {
   "cell_type": "code",
   "execution_count": 15,
   "metadata": {},
   "outputs": [],
   "source": [
    "# split data into train and validate\n",
    "X_train, X_valid, y_train, y_valid = train_test_split(\n",
    "    X,\n",
    "    y,\n",
    "    test_size=0.15,\n",
    "    random_state=42,\n",
    "    shuffle=True,\n",
    "    stratify=y,\n",
    ")"
   ]
  },
  {
   "attachments": {},
   "cell_type": "markdown",
   "metadata": {},
   "source": [
    "## Multinomial Naive Bayes algorithm"
   ]
  },
  {
   "attachments": {},
   "cell_type": "markdown",
   "metadata": {},
   "source": [
    "We will train the Multinomial Naive Bayes algorithm to classify if a review is positive or negative. This is one of the most common algorithms used for text classification.\n",
    "\n",
    "But before training the model, we need to transform our cleaned reviews into numerical values so that the model can understand the data. In this case, we will use the TfidfVectorizer method from scikit-learn. TfidfVectorizer will help us to convert a collection of text documents to a matrix of TF-IDF features.\n",
    "\n",
    "To apply this series of steps(pre-processing and training), we will use a Pipeline class from scikit-learn that sequentially applies a list of transforms and a final estimator."
   ]
  },
  {
   "cell_type": "code",
   "execution_count": 16,
   "metadata": {},
   "outputs": [],
   "source": [
    "# Create a classifier in pipeline\n",
    "sentiment_classifier = Pipeline(steps=[\n",
    "                               ('pre_processing',TfidfVectorizer(lowercase=False)),\n",
    "                                 ('naive_bayes',MultinomialNB())\n",
    "                                 ])"
   ]
  },
  {
   "attachments": {},
   "cell_type": "markdown",
   "metadata": {},
   "source": [
    "Then we train our classifier."
   ]
  },
  {
   "cell_type": "code",
   "execution_count": 17,
   "metadata": {},
   "outputs": [
    {
     "data": {
      "text/html": [
       "<style>#sk-container-id-1 {color: black;background-color: white;}#sk-container-id-1 pre{padding: 0;}#sk-container-id-1 div.sk-toggleable {background-color: white;}#sk-container-id-1 label.sk-toggleable__label {cursor: pointer;display: block;width: 100%;margin-bottom: 0;padding: 0.3em;box-sizing: border-box;text-align: center;}#sk-container-id-1 label.sk-toggleable__label-arrow:before {content: \"▸\";float: left;margin-right: 0.25em;color: #696969;}#sk-container-id-1 label.sk-toggleable__label-arrow:hover:before {color: black;}#sk-container-id-1 div.sk-estimator:hover label.sk-toggleable__label-arrow:before {color: black;}#sk-container-id-1 div.sk-toggleable__content {max-height: 0;max-width: 0;overflow: hidden;text-align: left;background-color: #f0f8ff;}#sk-container-id-1 div.sk-toggleable__content pre {margin: 0.2em;color: black;border-radius: 0.25em;background-color: #f0f8ff;}#sk-container-id-1 input.sk-toggleable__control:checked~div.sk-toggleable__content {max-height: 200px;max-width: 100%;overflow: auto;}#sk-container-id-1 input.sk-toggleable__control:checked~label.sk-toggleable__label-arrow:before {content: \"▾\";}#sk-container-id-1 div.sk-estimator input.sk-toggleable__control:checked~label.sk-toggleable__label {background-color: #d4ebff;}#sk-container-id-1 div.sk-label input.sk-toggleable__control:checked~label.sk-toggleable__label {background-color: #d4ebff;}#sk-container-id-1 input.sk-hidden--visually {border: 0;clip: rect(1px 1px 1px 1px);clip: rect(1px, 1px, 1px, 1px);height: 1px;margin: -1px;overflow: hidden;padding: 0;position: absolute;width: 1px;}#sk-container-id-1 div.sk-estimator {font-family: monospace;background-color: #f0f8ff;border: 1px dotted black;border-radius: 0.25em;box-sizing: border-box;margin-bottom: 0.5em;}#sk-container-id-1 div.sk-estimator:hover {background-color: #d4ebff;}#sk-container-id-1 div.sk-parallel-item::after {content: \"\";width: 100%;border-bottom: 1px solid gray;flex-grow: 1;}#sk-container-id-1 div.sk-label:hover label.sk-toggleable__label {background-color: #d4ebff;}#sk-container-id-1 div.sk-serial::before {content: \"\";position: absolute;border-left: 1px solid gray;box-sizing: border-box;top: 0;bottom: 0;left: 50%;z-index: 0;}#sk-container-id-1 div.sk-serial {display: flex;flex-direction: column;align-items: center;background-color: white;padding-right: 0.2em;padding-left: 0.2em;position: relative;}#sk-container-id-1 div.sk-item {position: relative;z-index: 1;}#sk-container-id-1 div.sk-parallel {display: flex;align-items: stretch;justify-content: center;background-color: white;position: relative;}#sk-container-id-1 div.sk-item::before, #sk-container-id-1 div.sk-parallel-item::before {content: \"\";position: absolute;border-left: 1px solid gray;box-sizing: border-box;top: 0;bottom: 0;left: 50%;z-index: -1;}#sk-container-id-1 div.sk-parallel-item {display: flex;flex-direction: column;z-index: 1;position: relative;background-color: white;}#sk-container-id-1 div.sk-parallel-item:first-child::after {align-self: flex-end;width: 50%;}#sk-container-id-1 div.sk-parallel-item:last-child::after {align-self: flex-start;width: 50%;}#sk-container-id-1 div.sk-parallel-item:only-child::after {width: 0;}#sk-container-id-1 div.sk-dashed-wrapped {border: 1px dashed gray;margin: 0 0.4em 0.5em 0.4em;box-sizing: border-box;padding-bottom: 0.4em;background-color: white;}#sk-container-id-1 div.sk-label label {font-family: monospace;font-weight: bold;display: inline-block;line-height: 1.2em;}#sk-container-id-1 div.sk-label-container {text-align: center;}#sk-container-id-1 div.sk-container {/* jupyter's `normalize.less` sets `[hidden] { display: none; }` but bootstrap.min.css set `[hidden] { display: none !important; }` so we also need the `!important` here to be able to override the default hidden behavior on the sphinx rendered scikit-learn.org. See: https://github.com/scikit-learn/scikit-learn/issues/21755 */display: inline-block !important;position: relative;}#sk-container-id-1 div.sk-text-repr-fallback {display: none;}</style><div id=\"sk-container-id-1\" class=\"sk-top-container\"><div class=\"sk-text-repr-fallback\"><pre>Pipeline(steps=[(&#x27;pre_processing&#x27;, TfidfVectorizer(lowercase=False)),\n",
       "                (&#x27;naive_bayes&#x27;, MultinomialNB())])</pre><b>In a Jupyter environment, please rerun this cell to show the HTML representation or trust the notebook. <br />On GitHub, the HTML representation is unable to render, please try loading this page with nbviewer.org.</b></div><div class=\"sk-container\" hidden><div class=\"sk-item sk-dashed-wrapped\"><div class=\"sk-label-container\"><div class=\"sk-label sk-toggleable\"><input class=\"sk-toggleable__control sk-hidden--visually\" id=\"sk-estimator-id-1\" type=\"checkbox\" ><label for=\"sk-estimator-id-1\" class=\"sk-toggleable__label sk-toggleable__label-arrow\">Pipeline</label><div class=\"sk-toggleable__content\"><pre>Pipeline(steps=[(&#x27;pre_processing&#x27;, TfidfVectorizer(lowercase=False)),\n",
       "                (&#x27;naive_bayes&#x27;, MultinomialNB())])</pre></div></div></div><div class=\"sk-serial\"><div class=\"sk-item\"><div class=\"sk-estimator sk-toggleable\"><input class=\"sk-toggleable__control sk-hidden--visually\" id=\"sk-estimator-id-2\" type=\"checkbox\" ><label for=\"sk-estimator-id-2\" class=\"sk-toggleable__label sk-toggleable__label-arrow\">TfidfVectorizer</label><div class=\"sk-toggleable__content\"><pre>TfidfVectorizer(lowercase=False)</pre></div></div></div><div class=\"sk-item\"><div class=\"sk-estimator sk-toggleable\"><input class=\"sk-toggleable__control sk-hidden--visually\" id=\"sk-estimator-id-3\" type=\"checkbox\" ><label for=\"sk-estimator-id-3\" class=\"sk-toggleable__label sk-toggleable__label-arrow\">MultinomialNB</label><div class=\"sk-toggleable__content\"><pre>MultinomialNB()</pre></div></div></div></div></div></div></div>"
      ],
      "text/plain": [
       "Pipeline(steps=[('pre_processing', TfidfVectorizer(lowercase=False)),\n",
       "                ('naive_bayes', MultinomialNB())])"
      ]
     },
     "execution_count": 17,
     "metadata": {},
     "output_type": "execute_result"
    }
   ],
   "source": [
    "# train the sentiment classifier \n",
    "sentiment_classifier.fit(X_train,y_train)"
   ]
  },
  {
   "attachments": {},
   "cell_type": "markdown",
   "metadata": {},
   "source": [
    "## Evaluating the model"
   ]
  },
  {
   "attachments": {},
   "cell_type": "markdown",
   "metadata": {},
   "source": [
    "We then create a prediction from the validation set."
   ]
  },
  {
   "cell_type": "code",
   "execution_count": 18,
   "metadata": {},
   "outputs": [],
   "source": [
    "# test model performance on valid data \n",
    "y_preds = sentiment_classifier.predict(X_valid)"
   ]
  },
  {
   "attachments": {},
   "cell_type": "markdown",
   "metadata": {},
   "source": [
    "The model’s performance will be evaluated by using accuracy_score, classification_report and confusion matrix."
   ]
  },
  {
   "cell_type": "code",
   "execution_count": 19,
   "metadata": {},
   "outputs": [
    {
     "name": "stdout",
     "output_type": "stream",
     "text": [
      "Accuracy: 0.8632\n"
     ]
    }
   ],
   "source": [
    "accuracy = accuracy_score(y_valid, y_preds)\n",
    "cm = confusion_matrix(y_valid, y_preds)\n",
    "print(f\"Accuracy: {accuracy:.4f}\")"
   ]
  },
  {
   "cell_type": "code",
   "execution_count": 20,
   "metadata": {},
   "outputs": [
    {
     "name": "stdout",
     "output_type": "stream",
     "text": [
      "              precision    recall  f1-score   support\n",
      "\n",
      "           0       0.85      0.88      0.87      1875\n",
      "           1       0.87      0.85      0.86      1875\n",
      "\n",
      "    accuracy                           0.86      3750\n",
      "   macro avg       0.86      0.86      0.86      3750\n",
      "weighted avg       0.86      0.86      0.86      3750\n",
      "\n"
     ]
    }
   ],
   "source": [
    "report = classification_report(y_valid, y_preds)\n",
    "print(report)"
   ]
  },
  {
   "cell_type": "code",
   "execution_count": 21,
   "metadata": {},
   "outputs": [],
   "source": [
    "def display_confusion_matrix(y_true, y_pred, labels=None) -> None:\n",
    "    \n",
    "    \n",
    "    cm = confusion_matrix(y_true, y_pred, labels=labels)\n",
    "    disp = ConfusionMatrixDisplay(confusion_matrix=cm, display_labels=labels)\n",
    "    cmap = plt.cm.Blues\n",
    "    disp = disp.plot(cmap=cmap, xticks_rotation='vertical', values_format='d')\n",
    "    plt.xlabel('Predicted Label')\n",
    "    plt.ylabel('True Label')\n",
    "    plt.title('Confusion Matrix for Sentiment Classification Model')\n",
    "    plt.tight_layout()\n",
    "    plt.show()"
   ]
  },
  {
   "cell_type": "code",
   "execution_count": 22,
   "metadata": {},
   "outputs": [
    {
     "data": {
      "image/png": "[encoded data removed]",
      "text/plain": [
       "<Figure size 640x480 with 2 Axes>"
      ]
     },
     "metadata": {},
     "output_type": "display_data"
    }
   ],
   "source": [
    "display_confusion_matrix(y_valid, y_preds, labels=sentiment_classifier.classes_)"
   ]
  },
  {
   "attachments": {},
   "cell_type": "markdown",
   "metadata": {},
   "source": [
    "## Saving Model Pipeline\n",
    "\n",
    "The model pipeline will be saved in the model’s folder by using the joblib python package."
   ]
  },
  {
   "cell_type": "code",
   "execution_count": 68,
   "metadata": {},
   "outputs": [
    {
     "data": {
      "text/plain": [
       "['model/sentiment_model_pipeline.pkl']"
      ]
     },
     "execution_count": 68,
     "metadata": {},
     "output_type": "execute_result"
    }
   ],
   "source": [
    "#save model \n",
    "import joblib \n",
    "joblib.dump(sentiment_classifier, 'model/sentiment_model_pipeline.pkl')"
   ]
  }
 ],
 "metadata": {
  "kernelspec": {
   "display_name": "nlp",
   "language": "python",
   "name": "python3"
  },
  "language_info": {
   "codemirror_mode": {
    "name": "ipython",
    "version": 3
   },
   "file_extension": ".py",
   "mimetype": "text/x-python",
   "name": "python",
   "nbconvert_exporter": "python",
   "pygments_lexer": "ipython3",
   "version": "3.9.16"
  },
  "orig_nbformat": 4
 },
 "nbformat": 4,
 "nbformat_minor": 2
}
